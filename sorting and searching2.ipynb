{
 "cells": [
  {
   "cell_type": "code",
   "execution_count": null,
   "metadata": {},
   "outputs": [],
   "source": [
    "def two_sum(arr,k):\n",
    "    map = {}\n",
    "    for n in arr:\n",
    "        pot_m = k - n\n",
    "        if pot_m in map:\n",
    "            return [map[pot_m], n]\n",
    "        else:\n",
    "            map[n] = n\n",
    "    \n",
    "lst = [1, 21, 3, 14, 5, 60, 7, 6]\n",
    "n = 81\n",
    "\n",
    "two_sum(lst,n)\n",
    "# O(n) time , O(n) space"
   ]
  },
  {
   "cell_type": "code",
   "execution_count": null,
   "metadata": {},
   "outputs": [],
   "source": [
    "def search_rotatedList(arr,key):\n",
    "    left, right = 0, len(arr) - 1\n",
    "    while left  < right:\n",
    "        if arr[left] == key:\n",
    "            return left\n",
    "        \n",
    "        elif arr[left] > key:\n",
    "            left += 1\n",
    "        if arr[right] == key:\n",
    "            return right\n",
    "        elif arr[right] > key:\n",
    "            right -= 1\n",
    "    return False\n",
    "        \n",
    "        \n",
    "            \n",
    "lst = [7, 8, 9, 0, 3, 5, 6]\n",
    "key = 3 # \n",
    "search_rotatedList(lst,key)"
   ]
  },
  {
   "cell_type": "code",
   "execution_count": null,
   "metadata": {},
   "outputs": [],
   "source": [
    "def anagrams(lst):\n",
    "    track = {}\n",
    "    for word in lst:\n",
    "        if len(word) not in track:\n",
    "            track[len(word)] = [word]\n",
    "        else:\n",
    "            track[len(word)].append(word)\n",
    "    print(track)\n",
    "\n",
    "input = [\n",
    "    'tom marvolo riddle ',\n",
    "    'abc',\n",
    "    'def',\n",
    "    'cab',\n",
    "    'fed',\n",
    "    'brag',\n",
    "    'clint eastwood ',\n",
    "    'i am lord voldemort',\n",
    "    'elvis',\n",
    "    'grab',\n",
    "    'old west action',\n",
    "    'lives'\n",
    "  ]\n",
    "anagrams(input)\n",
    "# result = 'clint eastwood  old west action abc cab def fed elvis lives tom marvolo riddle  i am lord voldemort '"
   ]
  },
  {
   "cell_type": "code",
   "execution_count": 16,
   "metadata": {},
   "outputs": [
    {
     "output_type": "execute_result",
     "data": {
      "text/plain": [
       "[0, 0, 0, 0, 1, 1, 1, 1]"
      ]
     },
     "metadata": {},
     "execution_count": 16
    }
   ],
   "source": [
    "def arrange_binary(lst):\n",
    "    left = []\n",
    "    right = []\n",
    "    for n in lst:\n",
    "        if n == 0:\n",
    "            left.append(n)\n",
    "        else:\n",
    "            right.append(n)\n",
    "    left.extend(right)\n",
    "    return left\n",
    "\n",
    "lst = [1, 0, 1, 0, 1, 1, 0, 0]\n",
    "# ouput [0,0,0,0,1,1,1,1]\n",
    "arrange_binary(lst)s"
   ]
  },
  {
   "cell_type": "code",
   "execution_count": 2,
   "metadata": {},
   "outputs": [
    {
     "output_type": "execute_result",
     "data": {
      "text/plain": [
       "[6, 5]"
      ]
     },
     "metadata": {},
     "execution_count": 2
    }
   ],
   "source": [
    "def maximum_of_two(lst):\n",
    "    h = max(lst)\n",
    "    for n in range(len(lst)):\n",
    "        if lst[n] == h:\n",
    "            lst[n] = 0\n",
    "    sh = max(lst)\n",
    "    return [h,sh]\n",
    "\n",
    "lst = [1, 3, 5, 2, 6]\n",
    "#output [5,6]\n",
    "maximum_of_two(lst) "
   ]
  },
  {
   "cell_type": "code",
   "execution_count": 2,
   "metadata": {},
   "outputs": [
    {
     "output_type": "execute_result",
     "data": {
      "text/plain": [
       "[1, 3, 7]"
      ]
     },
     "metadata": {},
     "execution_count": 2
    }
   ],
   "source": [
    "def find_duplicates(lst):\n",
    "    hm = {}\n",
    "    for i in lst:\n",
    "        if i not in hm:\n",
    "            hm[i] = 0\n",
    "        else:\n",
    "            hm[i] += 1\n",
    "    return [key for key,value in hm.items() if(value > 0)]\n",
    "\n",
    "\n",
    "lst = [1, 3, 1, 3, 5, 1, 4, 7, 7]\n",
    "# output [1,3,7]\n",
    "find_duplicates(lst)"
   ]
  },
  {
   "cell_type": "code",
   "execution_count": 5,
   "metadata": {},
   "outputs": [
    {
     "output_type": "execute_result",
     "data": {
      "text/plain": [
       "True"
      ]
     },
     "metadata": {},
     "execution_count": 5
    }
   ],
   "source": [
    "def find_2D_array(lst,t):\n",
    "    if t > lst[len(lst)//2 -1][-1]:\n",
    "        for n in lst[len(lst)//2:]:\n",
    "            if t in n:\n",
    "                return True\n",
    "    else:\n",
    "        for n in lst[:len(lst)//2]:\n",
    "            if t in n:\n",
    "                return True\n",
    "    return False\n",
    "\n",
    "case1  =[[10, 11, 12, 13],\n",
    "        [14, 15, 16, 17],\n",
    "        [27, 29, 30, 31],\n",
    "        [32, 33, 39, 50]]\n",
    "\n",
    "case2 = [[10, 11, 12, 13], \n",
    "        [14, 15, 16, 17], \n",
    "        [27, 29, 30, 31], \n",
    "        [32, 33, 39, 80]]\n",
    "number = 30\n",
    "number2 = 45\n",
    "find_2D_array(case1,number)\n"
   ]
  },
  {
   "cell_type": "code",
   "execution_count": 7,
   "metadata": {},
   "outputs": [
    {
     "output_type": "execute_result",
     "data": {
      "text/plain": [
       "2"
      ]
     },
     "metadata": {},
     "execution_count": 7
    }
   ],
   "source": [
    "def search_insert_int(lst,n):\n",
    "    if n in lst:\n",
    "        return lst.index(n)\n",
    "    else:\n",
    "        c = 1\n",
    "        while c < len(lst):\n",
    "            if lst[c-1] < n < lst[c]:\n",
    "                return c\n",
    "    return False\n",
    "\n",
    "lst = [1, 3, 5, 6] # return index of value or insert value if not in list, return indx\n",
    "value = 5\n",
    "\n",
    "search_insert_int(lst,value)"
   ]
  },
  {
   "cell_type": "code",
   "execution_count": 17,
   "metadata": {},
   "outputs": [
    {
     "output_type": "execute_result",
     "data": {
      "text/plain": [
       "[0, 0, 0, 1, 1, 2, 2]"
      ]
     },
     "metadata": {},
     "execution_count": 17
    }
   ],
   "source": [
    "def dutch_national_flat(lst):\n",
    "    for i in range(1,len(lst)):\n",
    "        key = lst[i]\n",
    "        index= i - 1\n",
    "        while index >= 0 and lst[index] > key:\n",
    "            lst[index + 1] = lst[index]\n",
    "            index -=1\n",
    "        lst[index + 1] = key\n",
    "        \n",
    "    return lst\n",
    "\n",
    "\n",
    "case = [2, 0, 0, 1, 2, 1, 0]\n",
    "# output [0,0,0,1,1,2,2]\n",
    "dutch_national_flat(case)\n"
   ]
  },
  {
   "cell_type": "code",
   "execution_count": null,
   "metadata": {},
   "outputs": [],
   "source": []
  }
 ],
 "metadata": {
  "kernelspec": {
   "display_name": "Python 3",
   "language": "python",
   "name": "python3"
  },
  "language_info": {
   "codemirror_mode": {
    "name": "ipython",
    "version": 3
   },
   "file_extension": ".py",
   "mimetype": "text/x-python",
   "name": "python",
   "nbconvert_exporter": "python",
   "pygments_lexer": "ipython3",
   "version": "3.8.5-final"
  }
 },
 "nbformat": 4,
 "nbformat_minor": 4
}