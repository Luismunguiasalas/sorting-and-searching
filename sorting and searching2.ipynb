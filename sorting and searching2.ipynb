{
 "cells": [
  {
   "cell_type": "code",
   "execution_count": null,
   "metadata": {},
   "outputs": [],
   "source": [
    "def two_sum(arr,k):\n",
    "    map = {}\n",
    "    for n in arr:\n",
    "        pot_m = k - n\n",
    "        if pot_m in map:\n",
    "            return [map[pot_m], n]\n",
    "        else:\n",
    "            map[n] = n\n",
    "    \n",
    "lst = [1, 21, 3, 14, 5, 60, 7, 6]\n",
    "n = 81\n",
    "\n",
    "two_sum(lst,n)\n",
    "# O(n) time , O(n) space"
   ]
  },
  {
   "cell_type": "code",
   "execution_count": null,
   "metadata": {},
   "outputs": [],
   "source": [
    "def search_rotatedList(arr,key):\n",
    "    left, right = 0, len(arr) - 1\n",
    "    while left  < right:\n",
    "        if arr[left] == key:\n",
    "            return left\n",
    "        \n",
    "        elif arr[left] > key:\n",
    "            left += 1\n",
    "        if arr[right] == key:\n",
    "            return right\n",
    "        elif arr[right] > key:\n",
    "            right -= 1\n",
    "    return False\n",
    "        \n",
    "        \n",
    "            \n",
    "lst = [7, 8, 9, 0, 3, 5, 6]\n",
    "key = 3 # \n",
    "search_rotatedList(lst,key)"
   ]
  },
  {
   "cell_type": "code",
   "execution_count": null,
   "metadata": {},
   "outputs": [],
   "source": [
    "def anagrams(lst):\n",
    "    track = {}\n",
    "    for word in lst:\n",
    "        if len(word) not in track:\n",
    "            track[len(word)] = [word]\n",
    "        else:\n",
    "            track[len(word)].append(word)\n",
    "    print(track)\n",
    "\n",
    "input = [\n",
    "    'tom marvolo riddle ',\n",
    "    'abc',\n",
    "    'def',\n",
    "    'cab',\n",
    "    'fed',\n",
    "    'brag',\n",
    "    'clint eastwood ',\n",
    "    'i am lord voldemort',\n",
    "    'elvis',\n",
    "    'grab',\n",
    "    'old west action',\n",
    "    'lives'\n",
    "  ]\n",
    "anagrams(input)\n",
    "# result = 'clint eastwood  old west action abc cab def fed elvis lives tom marvolo riddle  i am lord voldemort '"
   ]
  },
  {
   "cell_type": "code",
   "execution_count": null,
   "metadata": {},
   "outputs": [],
   "source": []
  }
 ],
 "metadata": {
  "kernelspec": {
   "display_name": "Python 3",
   "language": "python",
   "name": "python3"
  },
  "language_info": {
   "codemirror_mode": {
    "name": "ipython",
    "version": 3
   },
   "file_extension": ".py",
   "mimetype": "text/x-python",
   "name": "python",
   "nbconvert_exporter": "python",
   "pygments_lexer": "ipython3",
   "version": "3.8.5"
  }
 },
 "nbformat": 4,
 "nbformat_minor": 4
}
