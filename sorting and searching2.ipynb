{
 "cells": [
  {
   "cell_type": "code",
   "execution_count": null,
   "metadata": {},
   "outputs": [],
   "source": [
    "def two_sum(arr,k):\n",
    "    map = {}\n",
    "    for n in arr:\n",
    "        pot_m = k - n\n",
    "        if pot_m in map:\n",
    "            return [map[pot_m], n]\n",
    "        else:\n",
    "            map[n] = n\n",
    "    \n",
    "lst = [1, 21, 3, 14, 5, 60, 7, 6]\n",
    "n = 81\n",
    "\n",
    "two_sum(lst,n)\n",
    "# O(n) time , O(n) space"
   ]
  },
  {
   "cell_type": "code",
   "execution_count": null,
   "metadata": {},
   "outputs": [],
   "source": [
    "def search_rotatedList(arr,key):\n",
    "    left, right = 0, len(arr) - 1\n",
    "    while left  < right:\n",
    "        if arr[left] == key:\n",
    "            return left\n",
    "        \n",
    "        elif arr[left] > key:\n",
    "            left += 1\n",
    "        if arr[right] == key:\n",
    "            return right\n",
    "        elif arr[right] > key:\n",
    "            right -= 1\n",
    "    return False\n",
    "        \n",
    "        \n",
    "            \n",
    "lst = [7, 8, 9, 0, 3, 5, 6]\n",
    "key = 3 # \n",
    "search_rotatedList(lst,key)"
   ]
  },
  {
   "cell_type": "code",
   "execution_count": null,
   "metadata": {},
   "outputs": [],
   "source": [
    "def anagrams(lst):\n",
    "    track = {}\n",
    "    for word in lst:\n",
    "        if len(word) not in track:\n",
    "            track[len(word)] = [word]\n",
    "        else:\n",
    "            track[len(word)].append(word)\n",
    "    print(track)\n",
    "\n",
    "input = [\n",
    "    'tom marvolo riddle ',\n",
    "    'abc',\n",
    "    'def',\n",
    "    'cab',\n",
    "    'fed',\n",
    "    'brag',\n",
    "    'clint eastwood ',\n",
    "    'i am lord voldemort',\n",
    "    'elvis',\n",
    "    'grab',\n",
    "    'old west action',\n",
    "    'lives'\n",
    "  ]\n",
    "anagrams(input)\n",
    "# result = 'clint eastwood  old west action abc cab def fed elvis lives tom marvolo riddle  i am lord voldemort '"
   ]
  },
  {
   "cell_type": "code",
   "execution_count": 16,
   "metadata": {},
   "outputs": [
    {
     "output_type": "execute_result",
     "data": {
      "text/plain": [
       "[0, 0, 0, 0, 1, 1, 1, 1]"
      ]
     },
     "metadata": {},
     "execution_count": 16
    }
   ],
   "source": [
    "def arrange_binary(lst):\n",
    "    left = []\n",
    "    right = []\n",
    "    for n in lst:\n",
    "        if n == 0:\n",
    "            left.append(n)\n",
    "        else:\n",
    "            right.append(n)\n",
    "    left.extend(right)\n",
    "    return left\n",
    "\n",
    "lst = [1, 0, 1, 0, 1, 1, 0, 0]\n",
    "# ouput [0,0,0,0,1,1,1,1]\n",
    "arrange_binary(lst)s"
   ]
  },
  {
   "cell_type": "code",
   "execution_count": 2,
   "metadata": {},
   "outputs": [
    {
     "output_type": "execute_result",
     "data": {
      "text/plain": [
       "[6, 5]"
      ]
     },
     "metadata": {},
     "execution_count": 2
    }
   ],
   "source": [
    "def maximum_of_two(lst):\n",
    "    h = max(lst)\n",
    "    for n in range(len(lst)):\n",
    "        if lst[n] == h:\n",
    "            lst[n] = 0\n",
    "    sh = max(lst)\n",
    "    return [h,sh]\n",
    "\n",
    "lst = [1, 3, 5, 2, 6]\n",
    "#output [5,6]\n",
    "maximum_of_two(lst) "
   ]
  }
 ],
 "metadata": {
  "kernelspec": {
   "display_name": "Python 3",
   "language": "python",
   "name": "python3"
  },
  "language_info": {
   "codemirror_mode": {
    "name": "ipython",
    "version": 3
   },
   "file_extension": ".py",
   "mimetype": "text/x-python",
   "name": "python",
   "nbconvert_exporter": "python",
   "pygments_lexer": "ipython3",
   "version": "3.8.5-final"
  }
 },
 "nbformat": 4,
 "nbformat_minor": 4
}